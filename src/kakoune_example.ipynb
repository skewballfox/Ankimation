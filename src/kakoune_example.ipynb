{
 "metadata": {
  "language_info": {
   "codemirror_mode": {
    "name": "ipython",
    "version": 3
   },
   "file_extension": ".py",
   "mimetype": "text/x-python",
   "name": "python",
   "nbconvert_exporter": "python",
   "pygments_lexer": "ipython3",
   "version": "3.9.2-final"
  },
  "orig_nbformat": 2,
  "kernelspec": {
   "name": "python3",
   "display_name": "Python 3.9.2 64-bit ('Ankimation': pipenv)",
   "metadata": {
    "interpreter": {
     "hash": "d6d043125a40a3c59d674a1e3291a46df0bb1f0be0ff6604d76e4e76436c415f"
    }
   }
  }
 },
 "nbformat": 4,
 "nbformat_minor": 2,
 "cells": [
  {
   "cell_type": "code",
   "execution_count": 1,
   "metadata": {},
   "outputs": [
    {
     "output_type": "stream",
     "name": "stdout",
     "text": [
      "Model(model_id=2052354127, name='Reverseable Model', fields=[{'name': 'Question'}, {'name': 'Answer'}], templates=[{'name': 'Card 1', 'qfmt': '{{Deck}}<br><br>{{Question}}', 'afmt': '{{FrontSide}}<hr id=\"answer\">{{Answer}}'}, {'name': 'Card 2', 'qfmt': '{{Answer}}', 'afmt': '{{FrontSide}}<hr id=\"answer\">{{Question}}'}], css='\\n.card {\\n font-family: arial;\\n font-size: 20px;\\n text-align: center;\\n color: black;\\n background-color: white;\\n}\\n', model_type=0)\n"
     ]
    }
   ],
   "source": [
    "# stuff you need for scraping\n",
    "import requests\n",
    "from scraper_functions import get_soup, open_soup\n",
    "from bs4 import BeautifulSoup as bs\n",
    "# stuff you need for generating decks\n",
    "import genanki\n",
    "from model_list import *\n",
    "import random\n",
    "\n",
    "# Have fun ;D\n",
    "\n",
    "#get_soup('past_url_here')\n",
    "soup=open_soup('kak.html')"
   ]
  },
  {
   "cell_type": "code",
   "execution_count": 2,
   "metadata": {},
   "outputs": [],
   "source": [
    "table_header=soup.contents[0].contents[1]\n",
    "table_body=soup.contents[0].contents[3]"
   ]
  },
  {
   "cell_type": "code",
   "execution_count": 3,
   "metadata": {},
   "outputs": [
    {
     "output_type": "stream",
     "name": "stdout",
     "text": [
      "Key\nDescription\nALT + key\nCTRL + key\ng key (goto)\n"
     ]
    }
   ],
   "source": [
    "table_headers=table_header.find_all('th')\n",
    "for i,header in enumerate(table_headers):\n",
    "    table_headers[i]=header\n",
    "    print(header.contents[0])"
   ]
  },
  {
   "cell_type": "code",
   "execution_count": 4,
   "metadata": {},
   "outputs": [
    {
     "output_type": "stream",
     "name": "stdout",
     "text": [
      "insert after selected text\ninsert at line end\nselect to previous word start\nextend to previous word start\nchange selected text\ncopy selection on next lines\nerase selected text\n\nselect to next word end\nextend to next word end\nselect to next character included\nextend to next character included\ngo to location\nextend to location\nmove left\nextend left\ninsert before selected text\ninsert at line begin\nmove down\nextend down\nmove up\nextend up\nmove right\nextend right\nselect to next matching character\nextend to next matching character\nselect next current search pattern match\nextend with next current search pattern match\ninsert on new line below\ninsert on new line above\npaste after selected text\n\npaste before selected text\n\nreplay recorded macro\nstart or end macro recording\nreplace with character\nreplace selected text with paired yanked text\nselect regex matches in selected text\nsplit selected text on regex matches\nselect to next character\nextend to next character\nundo\nredo\nmanipulate view\nlock view mode\nselect to next word start\nextend to next word start\nselect line\nextend line\nyank (copy) selected text\n\n\nrestore selections\nsave selections\n"
     ]
    },
    {
     "output_type": "error",
     "ename": "IndexError",
     "evalue": "list index out of range",
     "traceback": [
      "\u001b[0;31m---------------------------------------------------------------------------\u001b[0m",
      "\u001b[0;31mIndexError\u001b[0m                                Traceback (most recent call last)",
      "\u001b[0;32m<ipython-input-4-c5863cc7aa8f>\u001b[0m in \u001b[0;36m<module>\u001b[0;34m\u001b[0m\n\u001b[1;32m      2\u001b[0m \u001b[0;32mfor\u001b[0m \u001b[0mentry\u001b[0m \u001b[0;32min\u001b[0m \u001b[0mentries\u001b[0m\u001b[0;34m:\u001b[0m\u001b[0;34m\u001b[0m\u001b[0;34m\u001b[0m\u001b[0m\n\u001b[1;32m      3\u001b[0m     \u001b[0;32mif\u001b[0m \u001b[0mlen\u001b[0m\u001b[0;34m(\u001b[0m\u001b[0mentry\u001b[0m\u001b[0;34m.\u001b[0m\u001b[0mcontents\u001b[0m\u001b[0;34m)\u001b[0m\u001b[0;34m>\u001b[0m\u001b[0;36m1\u001b[0m\u001b[0;34m:\u001b[0m\u001b[0;31m#this throws an error when encounter a table header\u001b[0m\u001b[0;34m\u001b[0m\u001b[0;34m\u001b[0m\u001b[0m\n\u001b[0;32m----> 4\u001b[0;31m         \u001b[0mprint\u001b[0m\u001b[0;34m(\u001b[0m\u001b[0mentry\u001b[0m\u001b[0;34m.\u001b[0m\u001b[0mcontents\u001b[0m\u001b[0;34m[\u001b[0m\u001b[0;36m3\u001b[0m\u001b[0;34m]\u001b[0m\u001b[0;34m.\u001b[0m\u001b[0mget_text\u001b[0m\u001b[0;34m(\u001b[0m\u001b[0;34m)\u001b[0m\u001b[0;34m)\u001b[0m\u001b[0;34m\u001b[0m\u001b[0;34m\u001b[0m\u001b[0m\n\u001b[0m",
      "\u001b[0;31mIndexError\u001b[0m: list index out of range"
     ]
    }
   ],
   "source": [
    "entries=table_body.find_all('tr')\n",
    "for entry in entries:\n",
    "    if len(entry.contents)>1:#this throws an error when encounter a table header\n",
    "        print(entry.contents[3].get_text())"
   ]
  },
  {
   "cell_type": "code",
   "execution_count": 7,
   "metadata": {},
   "outputs": [],
   "source": [
    "keys={}\n",
    "\n",
    "for entry in table_body.find_all('tr'):\n",
    "    if len(entry.contents)>3:\n",
    "        \n",
    "        if entry.contents[3].get_text():\n",
    "            keys[entry.contents[1].get_text()]=entry.contents[3].get_text()\n",
    "        if entry.contents[5].get_text():\n",
    "            keys[\"ALT+\"+entry.contents[1].get_text()]=entry.contents[5].get_text()\n",
    "        if entry.contents[7].get_text():\n",
    "            keys[\"CTRL+\"+entry.contents[1].get_text()]=entry.contents[7].get_text()\n",
    "        if entry.contents[9].get_text():\n",
    "            keys[\"g \"+entry.contents[1].get_text()]=entry.contents[9].get_text()\n"
   ]
  },
  {
   "cell_type": "code",
   "execution_count": 69,
   "metadata": {},
   "outputs": [
    {
     "output_type": "stream",
     "name": "stdout",
     "text": [
      "a  :  insert after selected text\nALT+a  :  select whole object\ng(oto) a  :  last buffer\nA  :  insert at line end\nb  :  select to previous word start\nALT+b  :  select to previous WORD start\nCTRL+b  :  scroll one page up\ng(oto) b  :  window bottom\nB  :  extend to previous word start\nALT+B  :  extend to previous WORD start\nc  :  change selected text\nALT+c  :  change selected text without yanking\ng(oto) c  :  window center\nC  :  copy selection on next lines\nALT+C  :  copy selection on previous lines\nd  :  erase selected text\nALT+d  :  erase selected text without yanking\nCTRL+d  :  scroll one half page down\ne  :  select to next word end\nALT+e  :  select to next WORD end\ng(oto) e  :  buffer end\nE  :  extend to next word end\nALT+E  :  extend to next WORD end\nf  :  select to next character included\nALT+f  :  select to previous character included\nCTRL+f  :  scroll one page down\ng(oto) f  :  file\nF  :  extend to next character included\nALT+F  :  extend to previous character included\ng  :  go to location\nG  :  extend to location\nh  :  move left\nALT+h  :  select to line begin\nCTRL+h  :  (ambiguous)\ng(oto) h  :  line begin\nH  :  extend left\nALT+H  :  extend to line begin\ni  :  insert before selected text\nALT+i  :  select inner object\nCTRL+i  :  jump forward in jump list\ng(oto) i  :  line begin (non blank)\nI  :  insert at line begin\nj  :  move down\nALT+j  :  join lines\nCTRL+j  :  (ambiguous)\ng(oto) j  :  buffer bottom\nJ  :  extend down\nALT+J  :  join lines and select spaces\nk  :  move up\nALT+k  :  keep selections matching given regex\ng(oto) k  :  buffer top\nK  :  extend up\nALT+K  :  keep selections not matching given regex\nl  :  move right\nALT+l  :  select to line end\nCTRL+l  :  force screen redraw\ng(oto) l  :  line end\nL  :  extend right\nALT+L  :  extend to line end\nm  :  select to next matching character\nALT+m  :  select to previous matching character\nCTRL+m  :  (ambiguous)\nM  :  extend to next matching character\nALT+M  :  extend to previous matching character\nn  :  select next current search pattern match\nALT+n  :  select previous current search pattern match\nN  :  extend with next current search pattern match\nALT+N  :  extend with previous current search pattern match\no  :  insert on new line below\nALT+o  :  add a new empty line below\nCTRL+o  :  jump backward in jump list\nO  :  insert on new line above\nALT+O  :  add a new empty line above\np  :  paste after selected text\n\nALT+p  :  paste every yanked selection after selected text\nP  :  paste before selected text\n\nALT+P  :  paste every yanked selection before selected text\nq  :  replay recorded macro\nQ  :  start or end macro recording\nr  :  replace with character\nR  :  replace selected text with paired yanked text\nALT+R  :  replace selected text with all yanked texts\ns  :  select regex matches in selected text\nALT+s  :  split selected text on line ends\nCTRL+s  :  push current selections in jump list\nS  :  split selected text on regex matches\nALT+S  :  select first and last characters of each selections\nt  :  select to next character\nALT+t  :  select to previous character\ng(oto) t  :  window top\nT  :  extend to next character\nALT+T  :  extend to previous character\nu  :  undo\nALT+u  :  move backward in history\nCTRL+u  :  scroll one half page up\nU  :  redo\nALT+U  :  move forward in history\nv  :  manipulate view\nV  :  lock view mode\nw  :  select to next word start\nALT+w  :  select to next WORD start\nW  :  extend to next word start\nALT+W  :  extend to next WORD start\nx  :  select line\nALT+x  :  extend selections to whole lines\nX  :  extend line\nALT+X  :  crop selections to whole lines\ny  :  yank (copy) selected text\n\nz  :  restore selections\nALT+z  :  combine selections from\n          register\nZ  :  save selections\nALT+Z  :  combine selections to\n          register\n!  :  insert command output\nALT+!  :  append command output\n$  :  pipe each selection through shell command and keep the ones whose command succeed\n|  :  pipe each selection through filter and replace with output\nALT+|  :  pipe each selection through command and ignore output\n&  :  align cursors\nALT+&  :  copy indentation\n@  :  convert tabs to spaces\nALT+@  :  convert spaces to tabs\n<  :  deindent\nALT+<  :  deindent, not including incomplete indent\n>  :  indent\nALT+>  :  indent, including empty lines\n%  :  select whole buffer\n(  :  rotate main selection backward\nALT+(  :  rotate selections content backward\n)  :  rotate main selection forward\nALT+)  :  rotate selections content forward\n;semicolon  :  reduce selections to their cursor\nALT+;semicolon  :  swap cursors and anchors\n_  :  trim selections\nALT+_  :  merge contiguous selections together\n*  :  set search pattern to main selection content\nALT+*  :  set search pattern to main selection content, do not detect words\n/  :  select next given regex match\nALT+/  :  select previous given regex match\n?  :  extend with next given regex match\nALT+?  :  extend with previous given regex match\n[  :  select to object start\nALT+[  :  select to inner object start\n]  :  select to object end\nALT+]  :  select to inner object end\n{  :  extend to object start\nALT+{  :  extend to inner object start\n}  :  extend to object end\nALT+}  :  extend to inner object end\n`  :  convert to lower case\nALT+`  :  swap case\n~  :  convert to upper case\n,  :  user mappings\n.  :  repeat last insert command\nALT+.  :  repeat last object or t/f selection command\ng(oto) .  :  last buffer change\n\\  :  disable hooks\n:  :  enter command prompt\nALT+:  :  ensure cursor is after anchor\n\"  :  choose register\nUp  :  move up\nDown  :  move down\nLeft  :  move left\nRight  :  move right\nHome  :  select to line begin\nEnd  :  select to line end\nPageDown  :  scroll one page down\nPageUp  :  scroll one page up\nSpace  :  remove all selections except main\nALT+Space  :  remove main selection\nBackspace  :  remove count\nEscape  :  end macro recording\nTab  :  often interpreted as ctrl+i\n"
     ]
    }
   ],
   "source": [
    "for key,value in keys.items():\n",
    "    print(key,\" : \",value)"
   ]
  },
  {
   "cell_type": "code",
   "execution_count": 9,
   "metadata": {},
   "outputs": [
    {
     "output_type": "stream",
     "name": "stdout",
     "text": [
      "Model(model_id=2052354127, name='Reverseable Model', fields=[{'name': 'Question'}, {'name': 'Answer'}], templates=[{'name': 'Card 1', 'qfmt': '{{Deck}}<br><br>{{Question}}', 'afmt': '{{FrontSide}}<hr id=\"answer\">{{Answer}}'}, {'name': 'Card 2', 'qfmt': '{{Answer}}', 'afmt': '{{FrontSide}}<hr id=\"answer\">{{Question}}'}], css='\\n.card {\\n font-family: arial;\\n font-size: 20px;\\n text-align: center;\\n color: black;\\n background-color: white;\\n}\\n', model_type=0)\n"
     ]
    }
   ],
   "source": [
    "print(reverseable_model)"
   ]
  },
  {
   "cell_type": "code",
   "execution_count": 10,
   "metadata": {},
   "outputs": [],
   "source": [
    "deck_id=random.randrange(1 << 30, 1 << 31)\n",
    "normal_commands=genanki.Deck(deck_id,\"Normal Mode Keys\")\n",
    "for key,description in keys.items():\n",
    "    note=genanki.Note(reverseable_model,fields=[key,description])\n",
    "    normal_commands.add_note(note)\n",
    "genanki.Package(normal_commands).write_to_file('normal_commands.apkg')"
   ]
  }
 ]
}